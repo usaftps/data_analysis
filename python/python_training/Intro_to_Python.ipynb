{
 "cells": [
  {
   "cell_type": "markdown",
   "metadata": {},
   "source": [
    "# Introduction to Python"
   ]
  },
  {
   "cell_type": "markdown",
   "metadata": {},
   "source": [
    "---\n",
    "## 1. Things to Know Before We Get Started:\n",
    "* We will be using Spyder to run scripts and develop projects. Spyder is an integrated development environment (IDE), comparable to MATLAB, used to develop programs. \n",
    "* Comment lines of code with `#`.\n",
    "* Create sections with `# %%` in Spyder.\n",
    "* Stop script execution in Spyder Select \"Projects\" --> Select \"Restart kernel\" or `Ctrl+.`.\n",
    "* Why Python?? It's Open source, capable, and FREE!!\n",
    "* __BEWARE__: For those familiar with C based languages and other languages that use an explicit implementation of pointers, Python automatically creates pointers to variables set equal to one another. Further discussion of how pointers work in Python can be found here https://realpython.com/pointers-in-python/.\n",
    "* Reference PEP 8 for style help https://www.python.org/dev/peps/pep-0008/.\n",
    "\n"
   ]
  },
  {
   "cell_type": "markdown",
   "metadata": {},
   "source": [
    "---\n",
    "## 2. Basic Math: Arithmetic Operators\n",
    "* Reference material https://www.w3schools.com/python/python_operators.asp"
   ]
  },
  {
   "cell_type": "markdown",
   "metadata": {},
   "source": [
    "### 2.1 Addition Operator, `+`\n",
    "* Add values together"
   ]
  },
  {
   "cell_type": "code",
   "execution_count": null,
   "metadata": {},
   "outputs": [],
   "source": [
    "3 + 5"
   ]
  },
  {
   "cell_type": "markdown",
   "metadata": {},
   "source": [
    "### 2.2 Subtraction Operator, `-`\n",
    "* Subtract one value from another"
   ]
  },
  {
   "cell_type": "code",
   "execution_count": null,
   "metadata": {},
   "outputs": [],
   "source": [
    "2 - 8"
   ]
  },
  {
   "cell_type": "markdown",
   "metadata": {},
   "source": [
    "### 2.3 Multiplication Operator, `*`\n",
    "* Multiply values together"
   ]
  },
  {
   "cell_type": "code",
   "execution_count": null,
   "metadata": {},
   "outputs": [],
   "source": [
    "3 * 6"
   ]
  },
  {
   "cell_type": "markdown",
   "metadata": {},
   "source": [
    "### 2.4 Division Operator, `/`\n",
    "* Divide one value by another"
   ]
  },
  {
   "cell_type": "code",
   "execution_count": null,
   "metadata": {},
   "outputs": [],
   "source": [
    "12 / 5"
   ]
  },
  {
   "cell_type": "markdown",
   "metadata": {},
   "source": [
    "### 2.5 Exponentiation Operator, `**`\n",
    "* Raise a value to a power"
   ]
  },
  {
   "cell_type": "code",
   "execution_count": null,
   "metadata": {},
   "outputs": [],
   "source": [
    "4 ** 2"
   ]
  },
  {
   "cell_type": "markdown",
   "metadata": {},
   "source": [
    "### 2.6 Floor Division Operator, `//`\n",
    "* Returns a value rounded down to the nearest whole number of one value divided by another"
   ]
  },
  {
   "cell_type": "code",
   "execution_count": null,
   "metadata": {},
   "outputs": [],
   "source": [
    "12 // 5"
   ]
  },
  {
   "cell_type": "markdown",
   "metadata": {},
   "source": [
    "___\n",
    "## 3. Comparison Operators and Logical Operators\n",
    "* Reference material https://www.w3schools.com/python/python_operators.asp"
   ]
  },
  {
   "cell_type": "markdown",
   "metadata": {},
   "source": [
    "### 3.1 Greater than, `>`"
   ]
  },
  {
   "cell_type": "code",
   "execution_count": null,
   "metadata": {
    "scrolled": true
   },
   "outputs": [],
   "source": [
    "2 > 1"
   ]
  },
  {
   "cell_type": "markdown",
   "metadata": {},
   "source": [
    "### 3.2 Less than, `<`"
   ]
  },
  {
   "cell_type": "code",
   "execution_count": null,
   "metadata": {
    "scrolled": true
   },
   "outputs": [],
   "source": [
    "2 < 1"
   ]
  },
  {
   "cell_type": "markdown",
   "metadata": {},
   "source": [
    "### 3.3 Greater than or Equal to, `>=`"
   ]
  },
  {
   "cell_type": "code",
   "execution_count": null,
   "metadata": {},
   "outputs": [],
   "source": [
    "2 >= 2"
   ]
  },
  {
   "cell_type": "markdown",
   "metadata": {},
   "source": [
    "### 3.4 Less Than or equal to, `<=`"
   ]
  },
  {
   "cell_type": "code",
   "execution_count": null,
   "metadata": {},
   "outputs": [],
   "source": [
    "2 <= 1"
   ]
  },
  {
   "cell_type": "markdown",
   "metadata": {},
   "source": [
    "### 3.5 Equal TO, `==`"
   ]
  },
  {
   "cell_type": "code",
   "execution_count": null,
   "metadata": {},
   "outputs": [],
   "source": [
    "2 == 1"
   ]
  },
  {
   "cell_type": "markdown",
   "metadata": {},
   "source": [
    "### 3.6 Not Equal TO, `!=`"
   ]
  },
  {
   "cell_type": "code",
   "execution_count": null,
   "metadata": {},
   "outputs": [],
   "source": [
    "2 != 1"
   ]
  },
  {
   "cell_type": "markdown",
   "metadata": {},
   "source": [
    "### 3.7 Logical Operator: `and`"
   ]
  },
  {
   "cell_type": "code",
   "execution_count": null,
   "metadata": {},
   "outputs": [],
   "source": [
    "(2 > 3) and (3 > 2)"
   ]
  },
  {
   "cell_type": "markdown",
   "metadata": {},
   "source": [
    "### 3.8 Logical Operator: `or`"
   ]
  },
  {
   "cell_type": "code",
   "execution_count": null,
   "metadata": {},
   "outputs": [],
   "source": [
    "(2 > 3) or (3 > 2)"
   ]
  },
  {
   "cell_type": "markdown",
   "metadata": {},
   "source": [
    "---\n",
    "## 4. Lists:\n",
    "* Lists can store lists `list`, integers `int`, floating point `float`, strings `str`, tuples `tuple`, Booleans `bool`, and other data types. We will focus primarily on lists, integers, and floating points.\n",
    "* Lists are sequential (ordered) and can be both indexed and sliced. \n",
    "* The first element (item) of a list in Python like many languages including Java, C, C##, is `0`. This differs from MATLAB which uses `1` as the first element in a list.\n",
    "* Reference material https://www.w3schools.com/python/python_lists.asp\n"
   ]
  },
  {
   "cell_type": "markdown",
   "metadata": {},
   "source": [
    "### 4.1 Creating a List\n",
    "* Lists are denoted with square brackets `[]` with elements being separated using commas `,`. \n",
    "* If a `list` is desired, avoid using parentheses `()` to ensure Python does not create a `tuple`."
   ]
  },
  {
   "cell_type": "code",
   "execution_count": null,
   "metadata": {},
   "outputs": [],
   "source": [
    "[1, 2, 3, 4] "
   ]
  },
  {
   "cell_type": "markdown",
   "metadata": {},
   "source": [
    "### 4.2 Assigning a List to a Variable\n",
    "* Lists and other data types can be assigned to a variable using the operator `=`.\n",
    "* Reserved words such as `list` and `int` should not be used as variables. Reserved words can be identified in Spyder and Jupytor Notebooks by a change in coloration. \n",
    "* Variable names should be lowercase and words should be separated with underscores. Focus on using descriptive variable names. Examples: `var`, `var_example`, `more_var_examples`."
   ]
  },
  {
   "cell_type": "code",
   "execution_count": null,
   "metadata": {},
   "outputs": [],
   "source": [
    "my_list = [1, 2, 3, 4] \n",
    "print(my_list)"
   ]
  },
  {
   "cell_type": "markdown",
   "metadata": {},
   "source": [
    "### 4.3 Indexing and Slicing Lists\n",
    "* Specific elements can be retrieved by using the list name followed by the desired index value in square brackets. Using a negative index value indexes from the end of the list to the beginning. Notation: `variable_name[index_value]` \n",
    "* Slicing can be performed to grab more than one element. Notation: `variable_name[start : stop]` with start being the first index value and stop being the last value which is not included.\n"
   ]
  },
  {
   "cell_type": "code",
   "execution_count": null,
   "metadata": {},
   "outputs": [],
   "source": [
    "my_list[0]   #grab specific element"
   ]
  },
  {
   "cell_type": "code",
   "execution_count": null,
   "metadata": {},
   "outputs": [],
   "source": [
    "my_list[2]   "
   ]
  },
  {
   "cell_type": "code",
   "execution_count": null,
   "metadata": {},
   "outputs": [],
   "source": [
    "my_list[-1]  #using a negative index value indexes from the end of the list to the beginning"
   ]
  },
  {
   "cell_type": "code",
   "execution_count": null,
   "metadata": {},
   "outputs": [],
   "source": [
    "my_list[1:3] #grab specific elements"
   ]
  },
  {
   "cell_type": "code",
   "execution_count": null,
   "metadata": {},
   "outputs": [],
   "source": [
    "my_list[::]  #using two colens grabs an entire list"
   ]
  },
  {
   "cell_type": "markdown",
   "metadata": {},
   "source": [
    "---\n",
    "## 5. Lists of Lists:\n",
    "* Lists can store lists creating lists of lists or multidimensional arrays.\n",
    "* Reference material https://www.w3schools.com/python/python_lists.asp\n"
   ]
  },
  {
   "cell_type": "markdown",
   "metadata": {},
   "source": [
    "### 5.1 Creating a List of Lists"
   ]
  },
  {
   "cell_type": "code",
   "execution_count": null,
   "metadata": {},
   "outputs": [],
   "source": [
    "my_list_of_lists = [my_list,[11,23,33,44],my_list]\n",
    "print(my_list_of_lists)"
   ]
  },
  {
   "cell_type": "markdown",
   "metadata": {},
   "source": [
    "### 5.2 Indexing and Slicing Lists of Lists"
   ]
  },
  {
   "cell_type": "code",
   "execution_count": null,
   "metadata": {},
   "outputs": [],
   "source": [
    "my_list_of_lists[1]      #grab a list from list of lists"
   ]
  },
  {
   "cell_type": "code",
   "execution_count": null,
   "metadata": {},
   "outputs": [],
   "source": [
    "my_list_of_lists[2][::]  #grab a list from list of lists"
   ]
  },
  {
   "cell_type": "code",
   "execution_count": null,
   "metadata": {},
   "outputs": [],
   "source": [
    "my_list_of_lists[1][3]   #grab an element from a list in list of lists"
   ]
  },
  {
   "cell_type": "code",
   "execution_count": null,
   "metadata": {},
   "outputs": [],
   "source": [
    "my_list_of_lists[0:2]    #slice lists from list of lists"
   ]
  },
  {
   "cell_type": "code",
   "execution_count": null,
   "metadata": {},
   "outputs": [],
   "source": [
    "my_list_of_lists[2][0:4] #slice elements from a list in list of lists"
   ]
  },
  {
   "cell_type": "markdown",
   "metadata": {},
   "source": [
    "---\n",
    "## 6. NumPy Arrays:\n",
    "* NumPy is a Python library that enables the use of multidirectional arrays and other high level mathematical functions. \n",
    "* Libraries must be imported to be used. Notation: `import` library_name\n",
    "* Libraries can be imported with a shorter name than the library name to reduce typing and for clarity. Notation: `import` library_name `as` short_name\n",
    "* Reference material https://www.w3schools.com/python/numpy/numpy_intro.asp"
   ]
  },
  {
   "cell_type": "code",
   "execution_count": 3,
   "metadata": {},
   "outputs": [],
   "source": [
    "import numpy as np # numpy is conventionally imported as np"
   ]
  },
  {
   "cell_type": "markdown",
   "metadata": {},
   "source": [
    "### 6.1 Creating NumPy Arrays"
   ]
  },
  {
   "cell_type": "code",
   "execution_count": 4,
   "metadata": {
    "scrolled": true
   },
   "outputs": [
    {
     "data": {
      "text/plain": [
       "array([1, 2, 3, 4])"
      ]
     },
     "execution_count": 4,
     "metadata": {},
     "output_type": "execute_result"
    }
   ],
   "source": [
    "np.array([1,2,3,4])"
   ]
  },
  {
   "cell_type": "code",
   "execution_count": 5,
   "metadata": {},
   "outputs": [
    {
     "name": "stdout",
     "output_type": "stream",
     "text": [
      "[1 2 3 4]\n"
     ]
    }
   ],
   "source": [
    "my_array = np.array([1,2,3,4]) # 1D array\n",
    "print(my_array)"
   ]
  },
  {
   "cell_type": "code",
   "execution_count": 6,
   "metadata": {},
   "outputs": [
    {
     "name": "stdout",
     "output_type": "stream",
     "text": [
      "[[ 1  2  3  4]\n",
      " [11 23 33 44]\n",
      " [ 1  2  3  4]]\n"
     ]
    }
   ],
   "source": [
    "my_multi_array = np.array([my_array,[11,23,33,44],my_array]) #2D array\n",
    "print(my_multi_array)"
   ]
  },
  {
   "cell_type": "markdown",
   "metadata": {},
   "source": [
    "### 6.2 Performing Mathematical Operations on Matrices"
   ]
  },
  {
   "cell_type": "code",
   "execution_count": 7,
   "metadata": {},
   "outputs": [
    {
     "data": {
      "text/plain": [
       "array([[ 4,  5,  6,  7],\n",
       "       [14, 26, 36, 47],\n",
       "       [ 4,  5,  6,  7]])"
      ]
     },
     "execution_count": 7,
     "metadata": {},
     "output_type": "execute_result"
    }
   ],
   "source": [
    "my_multi_array + 3 # add a value to every element"
   ]
  },
  {
   "cell_type": "code",
   "execution_count": 8,
   "metadata": {},
   "outputs": [
    {
     "data": {
      "text/plain": [
       "array([[-2, -1,  0,  1],\n",
       "       [ 8, 20, 30, 41],\n",
       "       [-2, -1,  0,  1]])"
      ]
     },
     "execution_count": 8,
     "metadata": {},
     "output_type": "execute_result"
    }
   ],
   "source": [
    "my_multi_array - 3 # subtract a value from every element"
   ]
  },
  {
   "cell_type": "code",
   "execution_count": null,
   "metadata": {},
   "outputs": [],
   "source": [
    "my_multi_array * 3 # multiply every element by a value"
   ]
  },
  {
   "cell_type": "code",
   "execution_count": 9,
   "metadata": {},
   "outputs": [
    {
     "data": {
      "text/plain": [
       "array([[ 0.33333333,  0.66666667,  1.        ,  1.33333333],\n",
       "       [ 3.66666667,  7.66666667, 11.        , 14.66666667],\n",
       "       [ 0.33333333,  0.66666667,  1.        ,  1.33333333]])"
      ]
     },
     "execution_count": 9,
     "metadata": {},
     "output_type": "execute_result"
    }
   ],
   "source": [
    "my_multi_array / 3 # divide every element by a value"
   ]
  },
  {
   "cell_type": "code",
   "execution_count": 10,
   "metadata": {},
   "outputs": [
    {
     "name": "stdout",
     "output_type": "stream",
     "text": [
      "[[3 2]\n",
      " [9 7]]\n",
      "\n",
      "\n"
     ]
    },
    {
     "data": {
      "text/plain": [
       "array([[3, 9],\n",
       "       [2, 7]])"
      ]
     },
     "execution_count": 10,
     "metadata": {},
     "output_type": "execute_result"
    }
   ],
   "source": [
    "my_matrix = np.array([[3,2],[9,7]]) #Create new array\n",
    "print(my_matrix)\n",
    "print('\\n')\n",
    "my_matrix.transpose() # transpose array with the format: np_array.transpose()"
   ]
  },
  {
   "cell_type": "code",
   "execution_count": 11,
   "metadata": {},
   "outputs": [
    {
     "name": "stdout",
     "output_type": "stream",
     "text": [
      "[[1 3]\n",
      " [4 6]]\n",
      "\n",
      "\n"
     ]
    },
    {
     "data": {
      "text/plain": [
       "array([[-1.        ,  0.5       ],\n",
       "       [ 0.66666667, -0.16666667]])"
      ]
     },
     "execution_count": 11,
     "metadata": {},
     "output_type": "execute_result"
    }
   ],
   "source": [
    "my_new_matrix = np.array([[1,3],[4,6]]) #Create new array\n",
    "print(my_new_matrix)\n",
    "print('\\n')\n",
    "np.linalg.inv(my_new_matrix) #Find inverse of array with the format: np.linalg.inv(np_array, np_array)\n"
   ]
  },
  {
   "cell_type": "code",
   "execution_count": 12,
   "metadata": {},
   "outputs": [
    {
     "data": {
      "text/plain": [
       "array([[11, 21],\n",
       "       [37, 69]])"
      ]
     },
     "execution_count": 12,
     "metadata": {},
     "output_type": "execute_result"
    }
   ],
   "source": [
    "np.dot(my_matrix, my_new_matrix) # Find the dot product with the format: np.dot(np_array, np_array)"
   ]
  },
  {
   "cell_type": "code",
   "execution_count": 13,
   "metadata": {},
   "outputs": [
    {
     "data": {
      "text/plain": [
       "array([ 7, 26])"
      ]
     },
     "execution_count": 13,
     "metadata": {},
     "output_type": "execute_result"
    }
   ],
   "source": [
    "np.cross(my_matrix, my_new_matrix) # Find the cross product with the format: np.cross(np_array, np_array)"
   ]
  },
  {
   "cell_type": "markdown",
   "metadata": {},
   "source": [
    "---\n",
    "## 7. Pandas:\n",
    "* Pandas like NumPy is a library that adds additional capabilities.\n",
    "* Pandas is great for importing csv files and organizing data with pandas data frames\n",
    "* Reference material https://www.w3schools.com/python/pandas/pandas_intro.asp\n"
   ]
  },
  {
   "cell_type": "code",
   "execution_count": null,
   "metadata": {},
   "outputs": [],
   "source": [
    "import pandas as pd # pandas is conventionally imported as pd"
   ]
  },
  {
   "cell_type": "markdown",
   "metadata": {},
   "source": [
    "### 7.1 Importing a CSV File\n",
    "* Set a variable equal to the CSV that is read in and stored as a pandas data frame\n",
    "* To import a CSV file use the format: `pd.read_csv('file_name.csv')`\n",
    "* If the file is not in the same folder as the script being used to import the csv include the file extension.\n",
    "* Pandas data frames create a column that serves as the index\n"
   ]
  },
  {
   "cell_type": "code",
   "execution_count": null,
   "metadata": {},
   "outputs": [],
   "source": [
    "data = pd.read_csv('example.csv')# import CSV file of example data acquisition system (DAS) data from a C_12 and assign it to variable 'data'\n",
    "print(data)"
   ]
  },
  {
   "cell_type": "markdown",
   "metadata": {},
   "source": [
    "### 7.2 Assigning Column of Data to Variable\n",
    "* Data from specific columns can be grabbed and assigned to variables.\n",
    "* The data is grabbed using the heading. Format: `specific_data = data_frame_name.heading_of_column`"
   ]
  },
  {
   "cell_type": "code",
   "execution_count": null,
   "metadata": {},
   "outputs": [],
   "source": [
    "data_from_list_one = data.GPS_SPD # assigns GPS_SPD to variable\n",
    "print(data_from_list_one)"
   ]
  },
  {
   "cell_type": "markdown",
   "metadata": {},
   "source": [
    "### 7.3 Casting Pandas Dataframe to a List.\n",
    "* Depending on your needs it may be necessary to convert the pandas data frame to a list. This is done using casting.\n",
    "* Casting assigns a datatype to specific sets of data/variables allowing for data type specific functions to be performed. Notation: `new_data_type(data_in_old_data_type)`"
   ]
  },
  {
   "cell_type": "code",
   "execution_count": null,
   "metadata": {},
   "outputs": [],
   "source": [
    "data_from_list_one = list(data_from_list_one) #turns the pandas data frame column into a list.\n",
    "print(data_from_list_one)"
   ]
  },
  {
   "cell_type": "markdown",
   "metadata": {},
   "source": [
    "### 7.4 Export Pandas Dataframe to CSV File\n",
    "* To export to a CSV file use the format: `pd.to_csv('file_name.csv')`"
   ]
  },
  {
   "cell_type": "code",
   "execution_count": null,
   "metadata": {},
   "outputs": [],
   "source": [
    "data.to_csv('example_csv.csv', index=False) #Setting the index to 'False' does not export the index column to the csv file"
   ]
  },
  {
   "cell_type": "markdown",
   "metadata": {},
   "source": [
    "---\n",
    "## 8. Control Flow Statements:\n",
    "* Python has `for` statements, `while` statements, and `if` statements\n",
    "* Python uses indentations to mark blocks of code unlike other languages like C which use curly brackets.\n",
    "* Reference material `for` loops https://www.w3schools.com/python/python_for_loops.asp\n",
    "* Reference material `while` loops https://www.w3schools.com/python/python_while_loops.asp\n",
    "* Reference material `if` statements https://www.w3schools.com/python/python_conditions.asp"
   ]
  },
  {
   "cell_type": "markdown",
   "metadata": {},
   "source": [
    "### 8.1 `for` Statements\n",
    "* `for` loops execute code in the loop a specified number of times. Notation: `for item_in_list in my_list1:`"
   ]
  },
  {
   "cell_type": "code",
   "execution_count": null,
   "metadata": {},
   "outputs": [],
   "source": [
    "my_list1 = np.linspace(0, 30 , 6) #linspace is a NumPy function that can be used to create lists. \n",
    "#Notation: np.linspace(start, end, total_elements) with start begin the first value end being \n",
    "#the last value and total_elements the number of equally spaced elements to be created\n",
    "print(my_list1)"
   ]
  },
  {
   "cell_type": "code",
   "execution_count": null,
   "metadata": {},
   "outputs": [],
   "source": [
    "for items in my_list1:\n",
    "    print(items)"
   ]
  },
  {
   "cell_type": "code",
   "execution_count": null,
   "metadata": {},
   "outputs": [],
   "source": [
    "my_list2 = range(0, 10, 1) #range is a built in function that can be used to create a sequece of numbers.\n",
    "#Notation: range(start, stop, step) start is the first number of the sequence, stop is the number\n",
    "#the sequence stops at and is not included in the sequence, and step is the \n",
    "for items in my_list2:\n",
    "    print(items)"
   ]
  },
  {
   "cell_type": "markdown",
   "metadata": {},
   "source": [
    "### 8.2 `while` Statements\n",
    "* `while` loops execute code until a condition is not met. Notation `while items_in_list logicstatement value:`"
   ]
  },
  {
   "cell_type": "code",
   "execution_count": null,
   "metadata": {},
   "outputs": [],
   "source": [
    "i = 0 #create counter for indexing purposes\n",
    "while my_list1[i] < 20: #while element in my_list is less than 20 execute loop\n",
    "    print(my_list1[i]) #print my_list1 value that is below 20\n",
    "    i += 1 #count i up by one every time through loop"
   ]
  },
  {
   "cell_type": "markdown",
   "metadata": {},
   "source": [
    "### 8.3 `if`, `elif`, `else` Statements\n",
    "* `if` statements execute the block of code they contain if the `if` statement is true. Notation `if value logicstatement value:`\n",
    "* `elif` statements are used if multiple conditions need to be checked and work the same as `if` statements Notation `elif value logicstatement value:`\n",
    "* `else` statements execute if previous conditions are not met. Notation `else:`\n"
   ]
  },
  {
   "cell_type": "code",
   "execution_count": null,
   "metadata": {},
   "outputs": [],
   "source": [
    "if 2 > 1: \n",
    "    print('Hello')"
   ]
  },
  {
   "cell_type": "code",
   "execution_count": null,
   "metadata": {},
   "outputs": [],
   "source": [
    "if 1 > 1: \n",
    "    print('Hello')\n",
    "elif 2 > 1:\n",
    "    print('Hello 2')"
   ]
  },
  {
   "cell_type": "code",
   "execution_count": null,
   "metadata": {},
   "outputs": [],
   "source": [
    "if 1 > 1: \n",
    "    print('Hello')\n",
    "elif 2 < 1:\n",
    "    print('Hello 2')\n",
    "else:\n",
    "    print('none')"
   ]
  },
  {
   "cell_type": "markdown",
   "metadata": {},
   "source": [
    "---\n",
    "## 9. Functions:\n",
    "* Functions are great for repetition so that segments of code does not need to be repeated.\n",
    "* There are 2 main parts when using functions the function call and the function definition: Notation: function defintition `def my_function(variable(s)_to_pass_into_Function):` function call `varaible_for_returned_value = my_function(variable(s)_to_pass_into_Function)`\n",
    "* Reference material https://www.w3schools.com/python/python_functions.asp"
   ]
  },
  {
   "cell_type": "code",
   "execution_count": null,
   "metadata": {},
   "outputs": [],
   "source": [
    "def greater_than_7(list_value): #define the function\n",
    "    if list_value > 7:       #test the value sent into function and see what the result is\n",
    "        return('Yes')\n",
    "    else:\n",
    "        return('No')\n",
    "\n",
    "list_value = 5\n",
    "result = greater_than_7(list_value) #use function to test value\n",
    "print(result)"
   ]
  },
  {
   "cell_type": "code",
   "execution_count": null,
   "metadata": {},
   "outputs": [],
   "source": [
    "def greater_than_7(list_value):\n",
    "    if list_value > 7:\n",
    "        return('Yes')\n",
    "    else:\n",
    "        return('No')\n",
    "\n",
    "for x in my_list1:\n",
    "    result = greater_than_7(x)\n",
    "    print(result)"
   ]
  },
  {
   "cell_type": "markdown",
   "metadata": {},
   "source": [
    "---\n",
    "## Exercises:"
   ]
  },
  {
   "cell_type": "markdown",
   "metadata": {},
   "source": [
    "### 4. Lists"
   ]
  },
  {
   "cell_type": "markdown",
   "metadata": {},
   "source": [
    "4.1 Create a list with the numbers `12, 23, 24, 56, 67, 23` and assign it to a variable named `my_first_list`. Print `my_first_list`."
   ]
  },
  {
   "cell_type": "code",
   "execution_count": null,
   "metadata": {},
   "outputs": [],
   "source": [
    "# Insert your solution here"
   ]
  },
  {
   "cell_type": "markdown",
   "metadata": {},
   "source": [
    "<button data-toggle=\"collapse\" data-target=\"#sol1\" class='btn btn-primary'>Solution</button>\n",
    "<div id=\"sol1\" class=\"collapse\">\n",
    "   \n",
    "```python\n",
    "my_first_list = [12, 23, 24, 56, 67, 23]\n",
    "print(my_first_list)\n",
    "```"
   ]
  },
  {
   "cell_type": "markdown",
   "metadata": {},
   "source": [
    "4.2 Return the value `56` from `my_first_list` using 2 methods"
   ]
  },
  {
   "cell_type": "code",
   "execution_count": null,
   "metadata": {},
   "outputs": [],
   "source": [
    "# Insert your first method here"
   ]
  },
  {
   "cell_type": "code",
   "execution_count": null,
   "metadata": {
    "scrolled": true
   },
   "outputs": [],
   "source": [
    "# Insert your second method here"
   ]
  },
  {
   "cell_type": "markdown",
   "metadata": {},
   "source": [
    "<button data-toggle=\"collapse\" data-target=\"#sol2\" class='btn btn-primary'>Solution</button>\n",
    "<div id=\"sol2\" class=\"collapse\">\n",
    "   \n",
    "```python\n",
    "# first method\n",
    "my_first_list[3]\n",
    "# second method\n",
    "my_first_list[-3]\n",
    "```"
   ]
  },
  {
   "cell_type": "markdown",
   "metadata": {},
   "source": [
    "4.3 Return the `24, 56, 67` from `my_first_list` using slicing"
   ]
  },
  {
   "cell_type": "code",
   "execution_count": null,
   "metadata": {},
   "outputs": [],
   "source": [
    "# Insert your solution here"
   ]
  },
  {
   "cell_type": "markdown",
   "metadata": {},
   "source": [
    "<button data-toggle=\"collapse\" data-target=\"#sol3\" class='btn btn-primary'>Solution</button>\n",
    "<div id=\"sol3\" class=\"collapse\">\n",
    "   \n",
    "```python\n",
    "my_first_list[2:5]\n",
    "```"
   ]
  },
  {
   "cell_type": "markdown",
   "metadata": {},
   "source": [
    "### 5. Lists of Lists"
   ]
  },
  {
   "cell_type": "markdown",
   "metadata": {},
   "source": [
    "5.1 Create a list called `my_first_list_of_lists` composed of 3 elements. Make each element `my_first_list`. Print `my_first_list_of_lists`."
   ]
  },
  {
   "cell_type": "code",
   "execution_count": null,
   "metadata": {},
   "outputs": [],
   "source": [
    "# Insert your solution here"
   ]
  },
  {
   "cell_type": "markdown",
   "metadata": {},
   "source": [
    "<button data-toggle=\"collapse\" data-target=\"#sol4\" class='btn btn-primary'>Solution</button>\n",
    "<div id=\"sol4\" class=\"collapse\">\n",
    "   \n",
    "```python\n",
    "my_first_list_of_lists = [my_first_list,my_first_list,my_first_list]\n",
    "print(my_first_list_of_lists)\n",
    "```"
   ]
  },
  {
   "cell_type": "markdown",
   "metadata": {},
   "source": [
    "5.2 Select `12` from the third list in `my_first_list_of_lists`"
   ]
  },
  {
   "cell_type": "code",
   "execution_count": null,
   "metadata": {},
   "outputs": [],
   "source": [
    "# Insert your solution here"
   ]
  },
  {
   "cell_type": "markdown",
   "metadata": {},
   "source": [
    "<button data-toggle=\"collapse\" data-target=\"#sol5\" class='btn btn-primary'>Solution</button>\n",
    "<div id=\"sol5\" class=\"collapse\">\n",
    "   \n",
    "```python\n",
    "my_first_list_of_lists[2][0]\n",
    "```"
   ]
  },
  {
   "cell_type": "markdown",
   "metadata": {},
   "source": [
    "### 6. NumPy Arrays:"
   ]
  },
  {
   "cell_type": "markdown",
   "metadata": {},
   "source": [
    "6.1 Create a 1D NumPy array with the numbers `12, 25, 45, 35, 45, 45` with the name `my_numpy_array_1D`. Print `my_numpy_array_1D`."
   ]
  },
  {
   "cell_type": "code",
   "execution_count": null,
   "metadata": {},
   "outputs": [],
   "source": [
    "# Insert your solution here"
   ]
  },
  {
   "cell_type": "markdown",
   "metadata": {},
   "source": [
    "<button data-toggle=\"collapse\" data-target=\"#sol6\" class='btn btn-primary'>Solution</button>\n",
    "<div id=\"sol6\" class=\"collapse\">\n",
    "   \n",
    "```python\n",
    "my_numpy_array_1D = np.array([12, 25, 45, 35, 45, 45])\n",
    "print(my_numpy_array_1D)\n",
    "```"
   ]
  },
  {
   "cell_type": "markdown",
   "metadata": {},
   "source": [
    "6.2 Create a 2D NumPy array named `my_numpy_array_2D` with 3 rows. Set each row equal to `my_numpy_array_1D`"
   ]
  },
  {
   "cell_type": "code",
   "execution_count": null,
   "metadata": {},
   "outputs": [],
   "source": [
    "# Insert your solution here"
   ]
  },
  {
   "cell_type": "markdown",
   "metadata": {},
   "source": [
    "<button data-toggle=\"collapse\" data-target=\"#sol7\" class='btn btn-primary'>Solution</button>\n",
    "<div id=\"sol7\" class=\"collapse\">\n",
    "   \n",
    "```python\n",
    "my_numpy_array_2D = np.array([my_numpy_array_1D,my_numpy_array_1D,my_numpy_array_1D])\n",
    "print(my_numpy_array_2D)\n",
    "```"
   ]
  },
  {
   "cell_type": "markdown",
   "metadata": {},
   "source": [
    "6.3 Multiply every element in `my_numpy_array_2D` by `3`"
   ]
  },
  {
   "cell_type": "code",
   "execution_count": null,
   "metadata": {},
   "outputs": [],
   "source": [
    "# Insert your solution here"
   ]
  },
  {
   "cell_type": "markdown",
   "metadata": {},
   "source": [
    "<button data-toggle=\"collapse\" data-target=\"#sol8\" class='btn btn-primary'>Solution</button>\n",
    "<div id=\"sol8\" class=\"collapse\">\n",
    "   \n",
    "```python\n",
    "my_numpy_array_2D * 3\n",
    "```"
   ]
  },
  {
   "cell_type": "markdown",
   "metadata": {},
   "source": [
    "6.4 Find the transpose of `my_numpy_array_2D`"
   ]
  },
  {
   "cell_type": "code",
   "execution_count": null,
   "metadata": {},
   "outputs": [],
   "source": [
    "# Insert your solution here"
   ]
  },
  {
   "cell_type": "markdown",
   "metadata": {},
   "source": [
    "<button data-toggle=\"collapse\" data-target=\"#sol9\" class='btn btn-primary'>Solution</button>\n",
    "<div id=\"sol9\" class=\"collapse\">\n",
    "   \n",
    "```python\n",
    "my_numpy_array_2D.transpose()\n",
    "```"
   ]
  },
  {
   "cell_type": "markdown",
   "metadata": {},
   "source": [
    "### 7. Pandas:"
   ]
  },
  {
   "cell_type": "markdown",
   "metadata": {},
   "source": [
    "7.1 Import the CSV file named `example.csv` and assign it to a variable named `data1`. Print `data1`."
   ]
  },
  {
   "cell_type": "code",
   "execution_count": null,
   "metadata": {},
   "outputs": [],
   "source": [
    "# Insert your solution here"
   ]
  },
  {
   "cell_type": "markdown",
   "metadata": {},
   "source": [
    "<button data-toggle=\"collapse\" data-target=\"#sol10\" class='btn btn-primary'>Solution</button>\n",
    "<div id=\"sol10\" class=\"collapse\">\n",
    "   \n",
    "```python\n",
    "data1 = pd.read_csv('example.csv')\n",
    "print(data1)\n",
    "```"
   ]
  },
  {
   "cell_type": "markdown",
   "metadata": {},
   "source": [
    "7.2 Create a variable named `gps_lat` and assign the column `GPS_P_LAT2` to it. Print `gps_lat`."
   ]
  },
  {
   "cell_type": "code",
   "execution_count": null,
   "metadata": {},
   "outputs": [],
   "source": [
    "# Insert your solution here"
   ]
  },
  {
   "cell_type": "markdown",
   "metadata": {},
   "source": [
    "<button data-toggle=\"collapse\" data-target=\"#sol11\" class='btn btn-primary'>Solution</button>\n",
    "<div id=\"sol11\" class=\"collapse\">\n",
    "   \n",
    "```python\n",
    "gps_lat = data1.GPS_P_LAT2\n",
    "print(gps_lat)\n",
    "```"
   ]
  },
  {
   "cell_type": "markdown",
   "metadata": {},
   "source": [
    "### 8. Control Flow Statements:"
   ]
  },
  {
   "cell_type": "markdown",
   "metadata": {},
   "source": [
    "7.1 Create a list named `my_numbers` containing '23, 45, 56, 73, 96'. Use a `for` loop to print every element in the list. In the `for` loop call the `item_in_list` from section 7 `x`."
   ]
  },
  {
   "cell_type": "code",
   "execution_count": null,
   "metadata": {},
   "outputs": [],
   "source": [
    "# Insert your solution here"
   ]
  },
  {
   "cell_type": "markdown",
   "metadata": {},
   "source": [
    "<button data-toggle=\"collapse\" data-target=\"#sol12\" class='btn btn-primary'>Solution</button>\n",
    "<div id=\"sol12\" class=\"collapse\">\n",
    "   \n",
    "```python\n",
    "my_numbers = [23, 45, 56, 73, 96]\n",
    "for x in my_numbers:\n",
    "    print(x)\n",
    "```"
   ]
  },
  {
   "cell_type": "markdown",
   "metadata": {},
   "source": [
    "8.2 Create a `while` loop that prints all the numbers in `my_numbers` less than `60`. Create a counter named `j`."
   ]
  },
  {
   "cell_type": "code",
   "execution_count": null,
   "metadata": {},
   "outputs": [],
   "source": [
    "# Insert your solution herej = 0"
   ]
  },
  {
   "cell_type": "markdown",
   "metadata": {},
   "source": [
    "<button data-toggle=\"collapse\" data-target=\"#sol13\" class='btn btn-primary'>Solution</button>\n",
    "<div id=\"sol13\" class=\"collapse\">\n",
    "   \n",
    "```python\n",
    "j = 0\n",
    "while my_numbers[j] < 60:\n",
    "    print(my_numbers[j])\n",
    "    j += 1\n",
    "```"
   ]
  },
  {
   "cell_type": "markdown",
   "metadata": {},
   "source": [
    "8.3 Create an `if` statement that prints TRUE if `3` is greater than `2`."
   ]
  },
  {
   "cell_type": "code",
   "execution_count": null,
   "metadata": {},
   "outputs": [],
   "source": [
    "# Insert your solution here"
   ]
  },
  {
   "cell_type": "markdown",
   "metadata": {},
   "source": [
    "<button data-toggle=\"collapse\" data-target=\"#sol14\" class='btn btn-primary'>Solution</button>\n",
    "<div id=\"sol14\" class=\"collapse\">\n",
    "   \n",
    "```python\n",
    "if 3 > 2:\n",
    "    print('TRUE')\n",
    "```"
   ]
  },
  {
   "cell_type": "markdown",
   "metadata": {},
   "source": [
    "### 9. Functions:"
   ]
  },
  {
   "cell_type": "markdown",
   "metadata": {},
   "source": [
    "9.1 Create a function named `my_first_func` that takes in an argument named `number` and returns `Yes` if it is greater than 50 and `No` if it is less than 50."
   ]
  },
  {
   "cell_type": "code",
   "execution_count": null,
   "metadata": {},
   "outputs": [],
   "source": [
    "# Insert your solution here"
   ]
  },
  {
   "cell_type": "markdown",
   "metadata": {},
   "source": [
    "<button data-toggle=\"collapse\" data-target=\"#sol15\" class='btn btn-primary'>Solution</button>\n",
    "<div id=\"sol15\" class=\"collapse\">\n",
    "   \n",
    "```python\n",
    "def my_first_func(number):\n",
    "    if number > 50:\n",
    "        return ('Yes')\n",
    "    else:\n",
    "        return ('No')\n",
    "```"
   ]
  },
  {
   "cell_type": "markdown",
   "metadata": {},
   "source": [
    "9.2 Create a `for` loop that passes the elements of `my_numbers` into `my_first_func`, setting what the function returns equal to `answer`. Print `answer`. In the `for` loop call the `item_in_list` from section 7 `x`."
   ]
  },
  {
   "cell_type": "code",
   "execution_count": null,
   "metadata": {},
   "outputs": [],
   "source": [
    "# Insert your solution here"
   ]
  },
  {
   "cell_type": "markdown",
   "metadata": {},
   "source": [
    "<button data-toggle=\"collapse\" data-target=\"#sol16\" class='btn btn-primary'>Solution</button>\n",
    "<div id=\"sol16\" class=\"collapse\">\n",
    "   \n",
    "```python\n",
    "for x in my_numbers:\n",
    "    answer = my_first_func(x)\n",
    "    print (answer)\n",
    "```"
   ]
  }
 ],
 "metadata": {
  "kernelspec": {
   "display_name": "Python 3",
   "language": "python",
   "name": "python3"
  },
  "language_info": {
   "codemirror_mode": {
    "name": "ipython",
    "version": 3
   },
   "file_extension": ".py",
   "mimetype": "text/x-python",
   "name": "python",
   "nbconvert_exporter": "python",
   "pygments_lexer": "ipython3",
   "version": "3.8.5"
  }
 },
 "nbformat": 4,
 "nbformat_minor": 2
}
