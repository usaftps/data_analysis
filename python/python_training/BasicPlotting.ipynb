{
 "cells": [
  {
   "cell_type": "markdown",
   "metadata": {},
   "source": [
    "# Plotting in Python Using Matplotlib"
   ]
  },
  {
   "cell_type": "markdown",
   "metadata": {},
   "source": [
    " "
   ]
  },
  {
   "cell_type": "markdown",
   "metadata": {},
   "source": [
    "In order to be able to plot in python, first import the matplotlib.pyplot library as plt."
   ]
  },
  {
   "cell_type": "code",
   "execution_count": null,
   "metadata": {},
   "outputs": [],
   "source": [
    "import matplotlib.pyplot as plt"
   ]
  },
  {
   "cell_type": "markdown",
   "metadata": {},
   "source": [
    "## Plotting Data"
   ]
  },
  {
   "cell_type": "markdown",
   "metadata": {},
   "source": [
    "To plot a line, use `plt.plot(y)` where *y* is a list or array. If you do not specify x-values, python will use logical indexing to plot. To change the x-axis values in addition to y-axis values use `plt.plot(x,y)` as long as the lists or arrays are the same length. <br>\n",
    "\n",
    "To plot markers rather than a line, use `plt.plot(y,'.')`. You can change the color of the marker using a shortcut `plt.plot(y,'r.')` (red points) or by using keyword arguments: `plt.plot(y, color = 'red', marker = '.')`. Other keywords include `linestyle`, `linewidth`, `markersize`,  For full documentation on line properties, colors, and markers available in matplotlib, refer to the links below this section.\n",
    "\n",
    "Subsets of data can be plotted using brackets to index the data. `plt.plot(x[i:j],y[i:j],...)`. When using subsets to plot, they must be the same length.\n",
    "\n",
    "Multiple traces can be plotted on a single plot by using the `plt.plot`function by aggregating your traces into the plotting function in a single line, such as `plt.plot(x1,y1,'',x2,y2,'',...)`. You can also plot multiple traces by using the plot function multiple times without changing the figure to which you are plotting. While it is a good idea to specify your line/marker style when plotting multiple traces, it is not necessary as matplotlib will change the color of the line by default.\n",
    "\n",
    "These capabilities are demonstrated in the following example plot:"
   ]
  },
  {
   "cell_type": "code",
   "execution_count": null,
   "metadata": {},
   "outputs": [],
   "source": [
    "import matplotlib.pyplot as plt\n",
    "import numpy as np\n",
    "\n",
    "t = np.linspace(0,16,9) # these are our x-values, time in this instance\n",
    "A = np.linspace(2,16,15) # first list of y-values\n",
    "B = np.linspace(6,38,9) # more y-values\n",
    "C = np.linspace(3, 24, 8) # still more y-values\n",
    "D = np.linspace(0, 10.5, 8) # even more y-values\n",
    "E = np.linspace(0,1.75,8) # y-values\n",
    "\n",
    "plt.plot(A)   # this will plot our list A data. Since we do not specify x-values, list A will be plotted against index \n",
    "# array 0...N-1. We also do not specify a line or marker style, or a color, so python will plot a blue line by default\n",
    "\n",
    "plt.plot(t,B,'r-',t[0:8],C,'g.',t[0:8],D,'m^',t[0:8],E,'k--')  # this line plots the rest of our y-value lists against \n",
    "# our list t. Since our time list has different dimensions than some of our y-value lists, we use [] to index the data. \n",
    "# For each trace, we specify a different line/marker style and color (red line, green point, magenta triangle, black \n",
    "# dashed line respectively)"
   ]
  },
  {
   "cell_type": "markdown",
   "metadata": {},
   "source": [
    "For a full list of marker types available in matplotlib: https://matplotlib.org/stable/api/markers_api.html\n",
    "<br>\n",
    "\n",
    "For full instructions on how to change marker color: https://matplotlib.org/stable/gallery/color/named_colors.html\n",
    "<br>\n",
    "\n",
    "For more on line properties: https://matplotlib.org/2.0.1/api/lines_api.html"
   ]
  },
  {
   "cell_type": "markdown",
   "metadata": {},
   "source": [
    "## Plot Formatting "
   ]
  },
  {
   "cell_type": "markdown",
   "metadata": {},
   "source": [
    "We can title our plot using the `plt.title()` function. The axes can be labeled using the `plt.xlabel()` and `plt.ylabel()` functions. The properties of the labels and titles can be changed using keywords such as `fontsize`, `fontname`, and `fontweight`. Full documentation on font properties can be found in the link at the end of this section. \n",
    "\n",
    "Data can also be inserted into labels and titles by prefacing the string with `f` and inserting the variable names inside curly brackets `{}`. Special Characters can be included by using LaTex formatting within `$ $`\n",
    "\n",
    "The axes limits can be changed using the `plt.xlim()` and `plt.ylim()` functions.\n",
    "\n",
    "When plotting multiple traces, include a legend using the `plt.legend([ ])` function.\n",
    "\n",
    "The example below demonstrates these plot formatting capabilities using the same data we plotted in the previous section."
   ]
  },
  {
   "cell_type": "code",
   "execution_count": null,
   "metadata": {},
   "outputs": [],
   "source": [
    "import matplotlib.pyplot as plt\n",
    "import numpy as np   # This library allows for array functions. See intro to Python Notebook for more on numpy and arrays\n",
    "\n",
    "t = np.linspace(0,16,9) # these are our x-values, time in this instance\n",
    "A = np.linspace(2,16,15) # first list of y-values\n",
    "B = np.linspace(6,38,9) # more y-values\n",
    "C = np.linspace(3, 24, 8) # still more y-values\n",
    "D = np.linspace(0, 10.5, 8) # even more y-values\n",
    "E = np.linspace(0,1.75,8) # y-values\n",
    "\n",
    "mn_A = np.mean(A)  # Calculates the mean of A which we will insert in our text\n",
    "\n",
    "plt.plot(A)\n",
    "plt.plot(t,B,'r-',t[0:8],C,'g.',t[0:8],D,'m^',t[0:8],E,'k--')\n",
    "\n",
    "plt.xlabel('Time (seconds)',fontsize='14',fontname='cambria',fontweight='bold')   # Labels the x-axis with size 14 bold cambria \n",
    "plt.ylabel('Altitude (feet)',fontsize='14',fontname='cambria',fontweight='bold')  # Labels the y-axis with size 14 bold cambria\n",
    "\n",
    "plt.title('Simple Title',fontsize='18',fontname='cambria',fontweight='bold')   # Creates a size 18 bold cambria title\n",
    "\n",
    "plt.xlim(0,16)   # Sets the window for the x-axis from 0 to 16\n",
    "plt.ylim(0,40)   # Sets the window for the y-axis from 0 to 40\n",
    "\n",
    "plt.legend([f'A ($\\mu$ = {mn_A:.2f})','B','C','D','E'])   # This creates a legend for our mutliple traces. We insert our\n",
    "# mean data into the legend by prefacing the string with \"f\" and putting our variable inside curly brackets. The ':.2f' \n",
    "# within the brackets formats the data to two decimal places. We use LaTex formatting to insert the special character mu "
   ]
  },
  {
   "cell_type": "markdown",
   "metadata": {},
   "source": [
    "For full documentation on font properties: https://matplotlib.org/stable/tutorials/text/text_props.html"
   ]
  },
  {
   "cell_type": "markdown",
   "metadata": {},
   "source": [
    "### TPS Specific Title (tpstitle) Function\n",
    "There's a `tpstitle('big_title','col_text','axis_label','fonts','file_name')` function that can be used to plot data with titles specifically made for TPS. `big_title` is a string that will be the main title you want to include on your plot. `col_text` creates columns of text beneath the main title. This input is entered as a list of lists and can include as many lists as you want. `axis_label` is a list of 2 strings; the first will be the x-axis and the second will be the y-axis. `fonts` is a list of two numbers; the first number will determine the font size of the main title and the second will determine the size of the column and axes label text. `file_name` is a string that saves the plot created as a png. Make sure the string ends in `.png`. `big_title`, `col_text`, and `axis_label` require inputs, the other arguments have default values if they are not specified.  The function can be found in the data tools and is included in the following block of code, be sure to run it before you run the  following example."
   ]
  },
  {
   "cell_type": "code",
   "execution_count": null,
   "metadata": {},
   "outputs": [],
   "source": [
    "import sys\n",
    "import pandas as pd\n",
    "import matplotlib.pyplot as plt\n",
    "\n",
    "run_example = False\n",
    "\n",
    "def tpstitle(\n",
    "        big_title=None,\n",
    "        col_text=None,\n",
    "        axis_label=None,\n",
    "        fonts=None,\n",
    "        file_name=None):\n",
    "\n",
    "    \"\"\"\n",
    "    tps_title creates a standard TPS plot\n",
    "\n",
    "    Function arguments should be entered as keyword arguments\n",
    "    \n",
    "    Keyword arguments:\n",
    "    big_title -- Enter as a string (required keyword)\n",
    "    col_text -- Enter as a list of lists. Each list in the list of lists is \n",
    "        one column. (required keyword)\n",
    "    axis_label -- Enter as a list of strings. First string is the x-axis. \n",
    "        Second string is the y-axis. (required keyword)\n",
    "    fonts -- Enter as a list of two numbers. Font size should \n",
    "        be entered in points. The first value is the font of big_title. The \n",
    "        second value is the font of all other text. (optional keyword)\n",
    "    file_name -- Saves plot as a .png. Enter as a string. Must end\n",
    "        in '.png'. (optional keyword)\n",
    "        \n",
    "    Example:\n",
    "    example_run -- When 'example_run = True' an example plot will be displayed \n",
    "        and saved to the .png file named 'myplot.png'.\n",
    "    \"\"\"\n",
    "    \n",
    "    if (big_title == None or col_text == None or axis_label == None):\n",
    "        print('big_title, col_text, and axis_label are required arguments')\n",
    "        sys.exit()\n",
    "    if (type(big_title) != str):\n",
    "        print('big_title must be a string')\n",
    "        sys.exit()\n",
    "    if (type(col_text) != list or type(col_text[0]) != list):\n",
    "        print('col_text must be a list of lists even if there is only one column')\n",
    "        sys.exit()\n",
    "    if (len(axis_label) != 2 or type(axis_label) != list or \n",
    "        type(axis_label[0]) != str or type(axis_label[1]) != str):\n",
    "        print('axis_label must be a list of two strings')\n",
    "        sys.exit()\n",
    "    if (len(fonts) != 2 or type(fonts) != list):\n",
    "        print('fonts must be a list of two numbers')\n",
    "        sys.exit()        \n",
    "\n",
    "    if fonts == None:\n",
    "        big_font = 12\n",
    "        col_font = 10\n",
    "    else:\n",
    "        big_font = fonts[0]\n",
    "        col_font = fonts[1]\n",
    "    \n",
    "    num_cols = len(col_text)\n",
    "    col_lengths = []\n",
    "    for columns in col_text:\n",
    "        col_lengths.append(len(columns))\n",
    "    num_rows = max(col_lengths)\n",
    "        \n",
    "    for x in range(0, num_cols):\n",
    "        for j in range(0, num_rows+1):\n",
    "            try: \n",
    "                col_text[x][j]\n",
    "            except:\n",
    "                col_text[x].append('')\n",
    "    data={}\n",
    "    for x in range(0, num_cols):\n",
    "        data[x] = col_text[x]            \n",
    "    col_text_pd = pd.DataFrame(data)     \n",
    "    \n",
    "    plt.xlabel(axis_label[0], fontsize = col_font)\n",
    "    plt.ylabel(axis_label[1], fontsize = col_font)\n",
    "    plt.xticks(fontsize = col_font)\n",
    "    plt.yticks(fontsize = col_font)\n",
    "    plt.rc('font', size = col_font)\n",
    "    \n",
    "    table_data = plt.table(\n",
    "        cellText = col_text_pd.values,\n",
    "        cellLoc = 'left', \n",
    "        rowLoc = 'left',\n",
    "        loc='top',\n",
    "        edges='open'\n",
    "        )\n",
    "    table_data.auto_set_column_width(col = list(range(len(col_text_pd.columns))))\n",
    "    cell_dict = table_data.get_celld()\n",
    "    for i in range(0, num_cols):\n",
    "        for j in range(0, num_rows):\n",
    "            cell_dict[(j, i)].set_height(col_font / 216)      \n",
    "            \n",
    "    plt.title(\n",
    "        big_title, \n",
    "        pad = (col_font * (num_rows + 2)), \n",
    "        fontsize = big_font\n",
    "        ) \n",
    "        \n",
    "    if (file_name == None):\n",
    "        sys.exit()\n",
    "    elif (file_name[-4:] == '.png'):\n",
    "        plt.savefig(file_name, dpi = 600, bbox_inches=\"tight\")\n",
    "    else:\n",
    "        print(\"%s is not a valid file name. Must be a string and end in '.png'.\" %(file_name))\n",
    "        \n",
    "    plt.show()\n",
    "\n",
    "# Example\n",
    "if run_example:\n",
    "    x = ([1,14])\n",
    "    y = ([1,10])\n",
    "    plt.plot(x, y)\n",
    "    big_title = ('Gilbert XF-20')\n",
    "    col_text = [\n",
    "        ['Configuration: Cruise', \n",
    "        'Pressure Altitude: 10,000 feet',\n",
    "        'Weight: 57,000 pounds', \n",
    "        'CG: 23.9 percent',\n",
    "        r'Wing Reference Area: 548 $ft^{ 2}$'],\n",
    "        ['Data Basis: Flight Test',\n",
    "        'Test Dates: 2 Sep 50',\n",
    "        'Test Day Data',\n",
    "        r'W/$\\delta$ = 82,884 pounds']\n",
    "        ]\n",
    "    axis_label = [\n",
    "        r'Angle of Attack, $\\alpha (deg)$', \n",
    "        r'Lift Coefficient, $C_{L}$'\n",
    "        ]\n",
    "    fonts = [25, 18]\n",
    "    file_name = 'myplot.png'\n",
    "    \n",
    "    tps_title(\n",
    "        big_title=big_title,\n",
    "        col_text=col_text,\n",
    "        axis_label=axis_label,\n",
    "        fonts=fonts,\n",
    "        file_name=file_name)"
   ]
  },
  {
   "cell_type": "markdown",
   "metadata": {},
   "source": [
    " As an example, say we wanted to plot lift vs angle of attack data from the flight of a Gilbert XF-20, and wanted to include the configuration, pressure altitude, weight, center of gravity, and wing reference area in one column and the data basis, test dates, the tag \"test day data\" and the  in the other column."
   ]
  },
  {
   "cell_type": "code",
   "execution_count": null,
   "metadata": {},
   "outputs": [],
   "source": [
    "x = ([1,14]) # x data\n",
    "y = ([1,10]) # y data\n",
    "\n",
    "plt.plot(x, y)\n",
    "\n",
    "big_title = ('Gilbert XF-20')  # This will be the main title\n",
    "col_text = [    # This list is the text you want included in the columns. Each list is a new column.\n",
    "    ['Configuration: Cruise', \n",
    "    'Pressure Altitude: 10,000 feet',\n",
    "    'Weight: 57,000 pounds', \n",
    "    'CG: 23.9 percent',\n",
    "    r'Wing Reference Area: 548 $ft^{ 2}$'],  # r allows for special characters and formatting\n",
    "    ['Data Basis: Flight Test',\n",
    "    'Test Dates: 2 Sep 50',\n",
    "    'Test Day Data']\n",
    "    ]\n",
    "axis_label = [  # determines the axis labels\n",
    "    r'Angle of Attack, $\\alpha (deg)$', \n",
    "    r'Lift Coefficient, $C_{L}$'\n",
    "    ]\n",
    "fonts = [14, 12]\n",
    "file_name = 'myplot.png'\n",
    "    \n",
    "tpstitle(\n",
    "    big_title=big_title,\n",
    "    col_text=col_text,\n",
    "    axis_label=axis_label,\n",
    "    fonts=fonts,\n",
    "    file_name=file_name)"
   ]
  },
  {
   "cell_type": "markdown",
   "metadata": {},
   "source": [
    "## Creating Multiple Figures and Subplots"
   ]
  },
  {
   "cell_type": "markdown",
   "metadata": {},
   "source": [
    "To create multiple figures, use the `plt.figure()` function. Using the same number will plot to the same figure. \n",
    "Empty parentheses can be used to automatically create a new plot. Say we wanted to plot list A from the previous example in its own figure. "
   ]
  },
  {
   "cell_type": "code",
   "execution_count": null,
   "metadata": {},
   "outputs": [],
   "source": [
    "import matplotlib.pyplot as plt\n",
    "\n",
    "t = [0,2,4,6,8,10,12,14,16]\n",
    "A = [2,3,4,5,6,7,8,9,10,11,12,13,14,15,16]\n",
    "B = [6,10,14,18,22,26,30,34,38]   \n",
    "C = [3,6,9,12,15,18,21,24]   \n",
    "D = [0,1.5,3,4.5,6,7.5,9,10.5]\n",
    "E = [0,.25,.5,.75,1,1.25,1.5,1.75]\n",
    "\n",
    "plt.figure(1) # This defines figure 1 as the first figure that will be plotted to\n",
    "plt.plot(A)\n",
    "plt.xlabel('Time (seconds)',fontsize='14',fontname='cambria',fontweight='bold') \n",
    "plt.ylabel('Altitude (feet)',fontsize='14',fontname='cambria',fontweight='bold')\n",
    "plt.title('Run A',fontsize='18',fontname='cambria',fontweight='bold') \n",
    "\n",
    "plt.figure() # This will direct the next plot to a new figure (in this case figure 2)\n",
    "plt.plot(t,B,'r-',t[0:8],C,'g.')\n",
    "plt.xlabel('Time (seconds)',fontsize='14',fontname='cambria',fontweight='bold')   \n",
    "plt.ylabel('Altitude (feet)',fontsize='14',fontname='cambria',fontweight='bold')\n",
    "plt.title('Run B',fontsize='18',fontname='cambria',fontweight='bold') \n",
    "\n",
    "plt.figure(2) # This will continue to plot on figure 2\n",
    "plt.plot(t[0:8],D,'m^',t[0:8],E,'k--')"
   ]
  },
  {
   "cell_type": "markdown",
   "metadata": {},
   "source": [
    "We can also create subplots using the line `plt.subplots(rows, cols)` where `rows` is the number of rows, `cols` is the number of columns. Include the argument `constrained_layout=True` to prevent labels and titles from overlapping. If you want the subplots to have the same axes limits, include the arguments `sharex=True` for the x-axis and `sharey=True` for the y-axis. The subplots function returns a figure as well as the set of subplot axes. The axes can be indexed using the name you assigned for the array of axes objects brackets and the row and column of the axes you want to alter `ax[row,col]`. If your subplot only consists of one row or column, the indexing is done using a single integer rather than 2, i.e. `ax[0]`. The indexing begins from 0, so the upper left plot would have cordinates of [0,0]. Use `ax.set_title()` to create titles for each of your subplots and `fig.suptitle()` to create a main figure title. Use `ax.set_ylabel()` and `ax.set_xlabel()` to set the y and x labels respectively.  "
   ]
  },
  {
   "cell_type": "code",
   "execution_count": null,
   "metadata": {},
   "outputs": [],
   "source": [
    "import matplotlib.pyplot as plt\n",
    "\n",
    "fig, axs = plt.subplots(2,2,constrained_layout=True,sharey=True,sharex=True) # This creates your axes. constrained_layout=True \n",
    "# prevents text from overlapping. sharex=True and sharey=true  \n",
    "fig.suptitle('Big Title')\n",
    "\n",
    "# Top Left Plot\n",
    "axs[0,0].plot(A)\n",
    "axs[0,0].set_title('A')\n",
    "axs[0,0].set_ylabel('Altitude (ft)')\n",
    "axs[0,0].set_xlabel('Time (s)')\n",
    "\n",
    "# Top Right Plot\n",
    "axs[0,1].plot(B,'r')\n",
    "axs[0,1].set_title('B') \n",
    "axs[0,1].set_ylabel('Altitude (ft)')\n",
    "axs[0,1].set_xlabel('Time (s)')\n",
    "\n",
    "# Bottom Left Plot\n",
    "axs[1,0].plot(C,'g')   # bottom left\n",
    "axs[1,0].set_title('C')  \n",
    "axs[1,0].set_ylabel('Altitude (ft)')\n",
    "axs[1,0].set_xlabel('Time (s)')\n",
    "\n",
    "# Bottom Right Plot\n",
    "axs[1,1].plot(D,'m')   # bottom right\n",
    "axs[1,1].set_title('D') \n",
    "axs[1,1].set_ylabel('Altitude (ft)')\n",
    "axs[1,1].set_xlabel('Time (s)')"
   ]
  },
  {
   "cell_type": "markdown",
   "metadata": {},
   "source": [
    "You can also use the `plt.subplot(row,column,n)` where `row` and `column` are the number of rows and columns you want respectively, and `n` indicates which plot you want to work with. With this method, use the `plt.tight_layout()` function to keep the subplot titles from overlapping with the axes of other plots. The previous method (`plt.subplots()`) is recommended for subplotting as it is more capable and typically results in a cleaner looking plot.  <br>"
   ]
  },
  {
   "cell_type": "code",
   "execution_count": null,
   "metadata": {},
   "outputs": [],
   "source": [
    "import matplotlib.pyplot as plt\n",
    "\n",
    "plt.subplot(2,2,1)   # this will create a figure with 4 subplots (2 rows, 2 columns) and plot to the first (top left)\n",
    "plt.plot(A)\n",
    "plt.title('A')\n",
    "plt.xlabel('Time(s)')\n",
    "plt.ylabel('Altitude (ft)')\n",
    "\n",
    "plt.subplot(2,2,2)   # directs to subplot 2 (top right)\n",
    "plt.plot(B,'r')\n",
    "plt.title('B')\n",
    "plt.xlabel('Time(s)')\n",
    "plt.ylabel('Altitude (ft)')\n",
    "\n",
    "plt.subplot(2,2,3)   # directs to subplot 3 (bottom left)\n",
    "plt.plot(C,'g') \n",
    "plt.title('C')\n",
    "plt.xlabel('Time(s)')\n",
    "plt.ylabel('Altitude (ft)')\n",
    "\n",
    "plt.subplot(2,2,4)   # directs to subplot 4 (bottom right)\n",
    "plt.plot(D,'m')\n",
    "plt.title('D')\n",
    "plt.xlabel('Time(s)')\n",
    "plt.ylabel('Altitude (ft)')\n",
    "\n",
    "plt.suptitle('Big Title')\n",
    "plt.tight_layout()"
   ]
  },
  {
   "cell_type": "markdown",
   "metadata": {},
   "source": [
    "Additionally, the `plt.subplots()` can be used with the `plt.twinx()` to create a second y-axis on the same plot if we want to plot different parameters on a single plot:"
   ]
  },
  {
   "cell_type": "code",
   "execution_count": null,
   "metadata": {},
   "outputs": [],
   "source": [
    "import matplotlib.pyplot as plt\n",
    "fig,ax1 = plt.subplots()   # Creates our first axis  \n",
    "\n",
    "color = 'tab:blue'   # define a color for our first axis, in this case blue \n",
    "ax1.set_xlabel('Time (s)')   # set x-label\n",
    "ax1.set_ylabel('Altitude (ft)',color=color)   # set y-label, set the 1st y-axis color\n",
    "ax1.plot(t[0:8],C,color=color)   # plot data, set the color to be the same as the y-axis color\n",
    "ax1.tick_params(axis='y',labelcolor=color) # this changes the color of the tickmarks and numbers on the 1st y-axis\n",
    "\n",
    "ax2 = ax1.twinx() # this function creates our second axis.\n",
    "\n",
    "color = 'tab:orange'\n",
    "ax2.set_ylabel('Velocity (ft/s)',color=color)\n",
    "ax2.plot(t[0:8],D,color=color)\n",
    "ax2.tick_params(axis='y',labelcolor=color)\n",
    "ax2.set_ylim(0,15) # This changes the y-limit. This is not always necessary, but I will use it so our traces are easier to see\n",
    "\n",
    "plt.show() # This will display the plot we have just created above"
   ]
  },
  {
   "cell_type": "markdown",
   "metadata": {},
   "source": [
    "## Exercise\n",
    "* Create a plot of TPS Student Emotions where emotion is a function of time in months. \n",
    "    * The time span is 0-12 months with data intervals of 1 day. \n",
    "    * Input: Workload TPS puts on you can be represented by a sine wave of amplitude 10 work units biased by 15 work units and cycles about once every two weeks (assume 30 day month)\n",
    "        * $x = A\\sin(\\frac{2\\pi}{T}t)+b$\n",
    "    * Output: input multiplied by $e^{-0.5t}$\n",
    "* You should be able to produce the same plot shown below. The solution code shown below is just one possible way to create this plot. Toggle to hide the solution code and do not unhide until you have tried the exercise yourself."
   ]
  },
  {
   "cell_type": "code",
   "execution_count": null,
   "metadata": {},
   "outputs": [],
   "source": [
    "# Try your attempt here:"
   ]
  },
  {
   "cell_type": "code",
   "execution_count": null,
   "metadata": {},
   "outputs": [],
   "source": [
    "import math\n",
    "import numpy as np\n",
    "t = np.linspace(0,12,365)\n",
    "def f(t):\n",
    "    return ((10*math.sin(((2*math.pi)/(14/30))*t)+15)*(math.e**(-.5*t)))\n",
    "x = np.vectorize(f)\n",
    "plt.plot(t,x(t),'r')\n",
    "plt.title('TPS Student Emotions',fontweight = 'bold')\n",
    "plt.xlabel('Time (months)')\n",
    "plt.ylabel('Emotion')\n",
    "plt.ylim(0,25)\n",
    "plt.xlim(0,12)\n",
    "\n",
    "\n",
    "\n",
    "# Disregard. This section of code is used to toggle the cell\n",
    "from IPython.display import HTML\n",
    "import random\n",
    "def hide_toggle(for_next=False):\n",
    "    this_cell = \"\"\"$('div.cell.code_cell.rendered.selected')\"\"\"\n",
    "    next_cell = this_cell + '.next()'\n",
    "    toggle_text = 'Toggle show/hide'  # text shown on toggle link\n",
    "    target_cell = this_cell  # target cell to control with toggle\n",
    "    js_hide_current = ''  # bit of JS to permanently hide code in current cell (only when toggling next cell)\n",
    "    if for_next:\n",
    "        target_cell = next_cell\n",
    "        toggle_text += ' next cell'\n",
    "        js_hide_current = this_cell + '.find(\"div.input\").hide();'\n",
    "    js_f_name = 'code_toggle_{}'.format(str(random.randint(1,2**64)))\n",
    "    html = \"\"\"\n",
    "        <script>\n",
    "            function {f_name}() {{\n",
    "                {cell_selector}.find('div.input').toggle();\n",
    "            }}\n",
    "            {js_hide_current}\n",
    "        </script>\n",
    "        <a href=\"javascript:{f_name}()\">{toggle_text}</a>\n",
    "    \"\"\".format(\n",
    "        f_name=js_f_name,\n",
    "        cell_selector=target_cell,\n",
    "        js_hide_current=js_hide_current, \n",
    "        toggle_text=toggle_text\n",
    "    )\n",
    "    return HTML(html)\n",
    "hide_toggle()\n"
   ]
  }
 ],
 "metadata": {
  "kernelspec": {
   "display_name": "Python 3",
   "language": "python",
   "name": "python3"
  },
  "language_info": {
   "codemirror_mode": {
    "name": "ipython",
    "version": 3
   },
   "file_extension": ".py",
   "mimetype": "text/x-python",
   "name": "python",
   "nbconvert_exporter": "python",
   "pygments_lexer": "ipython3",
   "version": "3.8.5"
  }
 },
 "nbformat": 4,
 "nbformat_minor": 2
}
